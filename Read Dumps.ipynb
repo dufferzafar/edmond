{
 "cells": [
  {
   "cell_type": "code",
   "execution_count": 1,
   "metadata": {
    "collapsed": false
   },
   "outputs": [
    {
     "name": "stdout",
     "output_type": "stream",
     "text": [
      "1517 files processed.\n"
     ]
    }
   ],
   "source": [
    "\"\"\" Read data dumps from disk. \"\"\"\n",
    "\n",
    "import json\n",
    "import os\n",
    "\n",
    "import track\n",
    "\n",
    "# Folder to read dumps from\n",
    "folder = 'dump'\n",
    "\n",
    "# List of dictionaries\n",
    "dicts = []\n",
    "\n",
    "for file in os.listdir(folder):\n",
    "    with open('%s/%s' % (folder, file)) as inp:\n",
    "        try:\n",
    "            data = json.load(inp)\n",
    "        except ValueError:\n",
    "            print(file)\n",
    "            continue\n",
    "        else:\n",
    "            dicts.append(track.features(**data))\n",
    "\n",
    "print(\"%d files processed.\" % len(dicts))"
   ]
  },
  {
   "cell_type": "code",
   "execution_count": 2,
   "metadata": {
    "collapsed": true
   },
   "outputs": [],
   "source": [
    "\"\"\" Build a dataframe. \"\"\"\n",
    "\n",
    "import numpy as np\n",
    "import pandas as pd\n",
    "\n",
    "# Convert list of dicts to a dataframe\n",
    "df = pd.DataFrame(dicts)\n",
    "\n",
    "# Reorder the columns\n",
    "df = df[track.feature_list]\n",
    "\n",
    "# Sort by Listeners\n",
    "df.sort([\"Listeners\"], ascending=False, inplace=True)\n",
    "\n",
    "# Split tracks into 3 categories: \"Hit\", \"Avg\", \"Flop\"\n",
    "# Top 33% of tracks are Hits, next 33% are Avg etc.\n",
    "class_labels = np.array([\"Hit\", \"Avg\", \"Flop\"])\n",
    "df.insert(0, 'class', pd.qcut(range(len(df)), 3, labels=class_labels))"
   ]
  },
  {
   "cell_type": "code",
   "execution_count": null,
   "metadata": {
    "collapsed": false
   },
   "outputs": [],
   "source": [
    "\"\"\" Data. \"\"\"\n",
    "\n",
    "from sklearn.cross_validation import train_test_split\n",
    "\n",
    "# Skip the first 7 columns as they are mostly metadata\n",
    "features = df.columns[7:]\n",
    "\n",
    "# Data\n",
    "X = df[features]\n",
    "y, _ = pd.factorize(df['class'])\n",
    "\n",
    "X_train, X_test, y_train, y_test = train_test_split(X, y, test_size=0.25)"
   ]
  },
  {
   "cell_type": "code",
   "execution_count": null,
   "metadata": {
    "collapsed": true
   },
   "outputs": [],
   "source": [
    "\"\"\" SVM Classifier. \"\"\"\n",
    "\n",
    "from sklearn import svm\n",
    "clf = svm.SVC(kernel='linear', C=0.1)\n",
    "\n",
    "clf.fit(X_train, y_train)\n",
    "\n",
    "clf.score(X_test, y_test)"
   ]
  },
  {
   "cell_type": "code",
   "execution_count": null,
   "metadata": {
    "collapsed": true
   },
   "outputs": [],
   "source": [
    "\"\"\" Random Forest Classifier. \"\"\"\n",
    "\n",
    "from sklearn.ensemble import RandomForestClassifier\n",
    "clf = RandomForestClassifier(max_features=0.33, n_jobs=2, n_estimators=84)\n",
    "\n",
    "clf.fit(X_train, y_train)\n",
    "\n",
    "pd.crosstab(class_labels[clf.predict(X_test)], test['class'], rownames=['actual'], colnames=['pred'])"
   ]
  },
  {
   "cell_type": "code",
   "execution_count": null,
   "metadata": {
    "collapsed": false
   },
   "outputs": [],
   "source": [
    "\"\"\" Cross Validation. \"\"\"\n",
    "\n",
    "from sklearn.cross_validation import cross_val_score\n",
    "\n",
    "cross_val_score(clf, X, Y)"
   ]
  },
  {
   "cell_type": "code",
   "execution_count": null,
   "metadata": {
    "collapsed": false
   },
   "outputs": [],
   "source": [
    "\"\"\" Automatic Feature Selection. \"\"\"\n",
    "\n",
    "X = train[features]\n",
    "y, _ = pd.factorize(train['class'])\n",
    "print(X.shape)\n",
    "\n",
    "from sklearn.ensemble import ExtraTreesClassifier\n",
    "X_new = ExtraTreesClassifier().fit_transform(X, y)\n",
    "print(X_new.shape)\n",
    "\n",
    "from sklearn.svm import LinearSVC\n",
    "X_new = LinearSVC(C=0.01, penalty=\"l1\", dual=False).fit_transform(X, y)\n",
    "print(X_new.shape)\n",
    "\n",
    "from sklearn.feature_selection import VarianceThreshold\n",
    "X_new = VarianceThreshold(threshold=(.8 * (1 - .8))).fit_transform(X, y)\n",
    "print(X_new.shape)\n",
    "\n",
    "# TODO: Find names of columns that have important features"
   ]
  }
 ],
 "metadata": {
  "kernelspec": {
   "display_name": "Python 3",
   "language": "python",
   "name": "python3"
  },
  "language_info": {
   "codemirror_mode": {
    "name": "ipython",
    "version": 3
   },
   "file_extension": ".py",
   "mimetype": "text/x-python",
   "name": "python",
   "nbconvert_exporter": "python",
   "pygments_lexer": "ipython3",
   "version": "3.4.3"
  }
 },
 "nbformat": 4,
 "nbformat_minor": 0
}
